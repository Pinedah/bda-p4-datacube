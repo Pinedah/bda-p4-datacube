{
 "cells": [
  {
   "cell_type": "markdown",
   "id": "e173bfeb",
   "metadata": {},
   "source": [
    "# Análisis Exploratorio de Datos para el Dataset Heart_2022"
   ]
  },
  {
   "cell_type": "markdown",
   "id": "1fec6595",
   "metadata": {},
   "source": []
  }
 ],
 "metadata": {
  "language_info": {
   "name": "python"
  }
 },
 "nbformat": 4,
 "nbformat_minor": 5
}
